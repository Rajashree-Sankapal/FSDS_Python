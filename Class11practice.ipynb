{
 "cells": [
  {
   "cell_type": "markdown",
   "id": "a2a80efe-9bd7-44ed-93f6-1cd293e27dfd",
   "metadata": {},
   "source": [
    "program to take number and find sum of natural numbers till that number"
   ]
  },
  {
   "cell_type": "code",
   "execution_count": 36,
   "id": "e2eca93c-4b1d-42fc-a5a7-a7f3b6c71a19",
   "metadata": {},
   "outputs": [
    {
     "name": "stdin",
     "output_type": "stream",
     "text": [
      "Enter a number: 5\n"
     ]
    },
    {
     "name": "stdout",
     "output_type": "stream",
     "text": [
      "sum is 15\n"
     ]
    }
   ],
   "source": [
    "num=int(input(\"Enter a number:\"))\n",
    "result=0\n",
    "\n",
    "for i in range(1, num+1):\n",
    "    result += i\n",
    "\n",
    "\n",
    "print(f\"sum is {result}\")\n"
   ]
  },
  {
   "cell_type": "code",
   "execution_count": 42,
   "id": "6aefc254-6554-4715-af3e-65194649f401",
   "metadata": {},
   "outputs": [
    {
     "name": "stdin",
     "output_type": "stream",
     "text": [
      "Enter number: 5\n"
     ]
    },
    {
     "data": {
      "text/plain": [
       "15"
      ]
     },
     "execution_count": 42,
     "metadata": {},
     "output_type": "execute_result"
    }
   ],
   "source": [
    "start=1\n",
    "res=0\n",
    "\n",
    "num1=int(input(\"Enter number:\"))\n",
    "\n",
    "while (start!=num1+1):\n",
    "    res=res+start\n",
    "    start=start+1\n",
    "\n",
    "res"
   ]
  },
  {
   "cell_type": "code",
   "execution_count": 52,
   "id": "457fc1ae-b8ce-4088-8fc5-a18ce28026a5",
   "metadata": {},
   "outputs": [
    {
     "name": "stdin",
     "output_type": "stream",
     "text": [
      "Enter a name: madam\n"
     ]
    },
    {
     "name": "stdout",
     "output_type": "stream",
     "text": [
      "It is palindrome\n"
     ]
    }
   ],
   "source": [
    "#palindrome\n",
    "\n",
    "name=input(\"Enter a name:\")\n",
    "start=0\n",
    "end=len(name)-1\n",
    "is_palindrome=1\n",
    "\n",
    "while (start<end):\n",
    "    if name[start]!=name[end]:\n",
    "        is_palindrome=0\n",
    "        break\n",
    "    start=start+1\n",
    "    end=end-1\n",
    "\n",
    "\n",
    "if is_palindrome==0:\n",
    "    print(\"Not a palindrome\")\n",
    "else:\n",
    "    print(\"It is palindrome\")\n",
    "\n"
   ]
  },
  {
   "cell_type": "code",
   "execution_count": 60,
   "id": "5b0e8352-4deb-43e1-93a8-fcb39c918cbc",
   "metadata": {},
   "outputs": [
    {
     "name": "stdin",
     "output_type": "stream",
     "text": [
      "Enter a num: 4\n"
     ]
    },
    {
     "name": "stdout",
     "output_type": "stream",
     "text": [
      "24\n"
     ]
    }
   ],
   "source": [
    "#WAP to calculate factorial of a number\n",
    "\n",
    "num=int(input(\"Enter a num:\"))\n",
    "fact=1\n",
    "\n",
    "for i in range(1,num+1):\n",
    "    fact=fact*i\n",
    "\n",
    "print(fact)\n"
   ]
  },
  {
   "cell_type": "code",
   "execution_count": 81,
   "id": "3b168641-3734-490a-bc67-2fc3353c3f2b",
   "metadata": {},
   "outputs": [
    {
     "name": "stdin",
     "output_type": "stream",
     "text": [
      "Enter a number: 4\n"
     ]
    },
    {
     "name": "stdout",
     "output_type": "stream",
     "text": [
      "****\n",
      "****\n",
      "****\n",
      "****\n"
     ]
    }
   ],
   "source": [
    "# * pattern programs\n",
    "\n",
    "n=int(input(\"Enter a number:\"))\n",
    "\n",
    "for i in range(1,n+1):\n",
    "    for j in range(n):\n",
    "        print(\"*\",end='') \n",
    "    print(\"\")"
   ]
  },
  {
   "cell_type": "code",
   "execution_count": 117,
   "id": "4b2f95f9-7b7a-4c78-93a1-0b8d6bb631fc",
   "metadata": {},
   "outputs": [
    {
     "name": "stdin",
     "output_type": "stream",
     "text": [
      "Enter a num: 3\n"
     ]
    },
    {
     "name": "stdout",
     "output_type": "stream",
     "text": [
      "111\n",
      "222\n",
      "333\n"
     ]
    }
   ],
   "source": [
    "111\n",
    "222\n",
    "333\n",
    "n=int(input(\"Enter a num:\"))\n",
    "res=0\n",
    "\n",
    "for i in range(1,n+1):\n",
    "    for j in range(1,n+1):\n",
    "        print(res+i,end=\"\")\n",
    "    print('')"
   ]
  },
  {
   "cell_type": "code",
   "execution_count": 123,
   "id": "9656f1f8-2b2d-4c22-8c92-7e116749165a",
   "metadata": {},
   "outputs": [
    {
     "name": "stdin",
     "output_type": "stream",
     "text": [
      "Enter a num: 4\n"
     ]
    },
    {
     "name": "stdout",
     "output_type": "stream",
     "text": [
      "1\n",
      "22\n",
      "333\n",
      "4444\n"
     ]
    }
   ],
   "source": [
    "1\n",
    "22\n",
    "333\n",
    "n=int(input(\"Enter a num:\"))\n",
    "res=0\n",
    "\n",
    "for i in range(1,n+1):\n",
    "    for j in range(i):\n",
    "        print(res+i,end=\"\")\n",
    "    print('')"
   ]
  },
  {
   "cell_type": "code",
   "execution_count": 149,
   "id": "51142aa4-288f-439a-9edf-ad4f49f225bf",
   "metadata": {},
   "outputs": [
    {
     "name": "stdin",
     "output_type": "stream",
     "text": [
      "Enter a num: 4\n"
     ]
    },
    {
     "name": "stdout",
     "output_type": "stream",
     "text": [
      "1111\n",
      "222\n",
      "33\n",
      "4\n"
     ]
    }
   ],
   "source": [
    "1111\n",
    "222\n",
    "33\n",
    "4\n",
    "\n",
    "n=int(input(\"Enter a num:\"))\n",
    "res=0\n",
    "\n",
    "for i in range(n):\n",
    "    for j in range(n-i):\n",
    "        print(i+1,end=\"\")\n",
    "    print('')"
   ]
  },
  {
   "cell_type": "code",
   "execution_count": 151,
   "id": "d9a366d5-faf9-429d-a43e-4a17c7ae2e7e",
   "metadata": {},
   "outputs": [
    {
     "name": "stdin",
     "output_type": "stream",
     "text": [
      "Enter a num: 4\n"
     ]
    },
    {
     "name": "stdout",
     "output_type": "stream",
     "text": [
      "4444\n",
      "444\n",
      "44\n",
      "4\n"
     ]
    }
   ],
   "source": [
    "\n",
    "n=int(input(\"Enter a num:\"))\n",
    "res=0\n",
    "\n",
    "for i in range(n):\n",
    "    for j in range(n-i):\n",
    "        print(n,end=\"\")\n",
    "    print('')"
   ]
  },
  {
   "cell_type": "code",
   "execution_count": 167,
   "id": "231bd5a8-03e1-40d0-8a83-e373eedb3f7d",
   "metadata": {},
   "outputs": [
    {
     "name": "stdin",
     "output_type": "stream",
     "text": [
      "Enter a num: 4\n"
     ]
    },
    {
     "name": "stdout",
     "output_type": "stream",
     "text": [
      "1\n",
      "33\n",
      "555\n",
      "7777\n"
     ]
    }
   ],
   "source": [
    "\n",
    "n=int(input(\"Enter a num:\"))\n",
    "res=0\n",
    "\n",
    "for i in range(1,n+1):\n",
    "    for j in range(i):\n",
    "        print(res+1,end=\"\")\n",
    "    res+=2    \n",
    "    print('')"
   ]
  },
  {
   "cell_type": "code",
   "execution_count": 187,
   "id": "80cfe9be-a848-4845-b641-022013dd5ef9",
   "metadata": {},
   "outputs": [
    {
     "name": "stdin",
     "output_type": "stream",
     "text": [
      "Enter a num: 4\n"
     ]
    },
    {
     "name": "stdout",
     "output_type": "stream",
     "text": [
      "1\n",
      "12\n",
      "123\n",
      "1234\n"
     ]
    }
   ],
   "source": [
    "\n",
    "n=int(input(\"Enter a num:\"))\n",
    "res=0\n",
    "\n",
    "for i in range(1,n+1):\n",
    "    for j in range(i):\n",
    "        print(j+1,end=\"\")\n",
    "    #res+=2    \n",
    "    print('')"
   ]
  },
  {
   "cell_type": "code",
   "execution_count": 217,
   "id": "4ed35af2-0fa1-4462-9505-be9ea4257570",
   "metadata": {},
   "outputs": [
    {
     "name": "stdin",
     "output_type": "stream",
     "text": [
      "Enter a num: 5\n"
     ]
    },
    {
     "name": "stdout",
     "output_type": "stream",
     "text": [
      "01234\n",
      "0123\n",
      "012\n",
      "01\n"
     ]
    }
   ],
   "source": [
    "\n",
    "n=int(input(\"Enter a num:\"))\n",
    "res=0\n",
    "\n",
    "for i in range(n-1):\n",
    "    for j in range(n-i):\n",
    "        print(j,end=\"\")\n",
    "    print('')"
   ]
  },
  {
   "cell_type": "code",
   "execution_count": 221,
   "id": "9024e705-3e96-4bce-8649-7052720c8432",
   "metadata": {},
   "outputs": [
    {
     "name": "stdin",
     "output_type": "stream",
     "text": [
      "Enter a num: 5\n"
     ]
    },
    {
     "name": "stdout",
     "output_type": "stream",
     "text": [
      "55555\n",
      "4444\n",
      "333\n",
      "22\n",
      "1\n"
     ]
    }
   ],
   "source": [
    "n=int(input(\"Enter a num:\"))\n",
    "res=0\n",
    "\n",
    "for i in range(n):\n",
    "    for j in range(n):\n",
    "        print(n,end=\"\")\n",
    "    n=n-1    \n",
    "    print('')"
   ]
  },
  {
   "cell_type": "code",
   "execution_count": 252,
   "id": "8cba9cea-2c2a-49ba-a128-f264a4f504ae",
   "metadata": {},
   "outputs": [
    {
     "name": "stdin",
     "output_type": "stream",
     "text": [
      "Enter a num: 5\n"
     ]
    },
    {
     "name": "stdout",
     "output_type": "stream",
     "text": [
      "1\n",
      "21\n",
      "321\n",
      "4321\n",
      "54321\n"
     ]
    }
   ],
   "source": [
    "n=int(input(\"Enter a num:\"))\n",
    "res=0\n",
    "\n",
    "for i in range(1,n+1):\n",
    "    for j in range(i,0,-1):\n",
    "        print(j,end=\"\")\n",
    "    #n=n-1    \n",
    "    print('')"
   ]
  },
  {
   "cell_type": "code",
   "execution_count": 282,
   "id": "5192cf45-115a-4a14-8c88-508d4ac4289e",
   "metadata": {},
   "outputs": [
    {
     "name": "stdin",
     "output_type": "stream",
     "text": [
      "Enter a num: 4\n"
     ]
    },
    {
     "name": "stdout",
     "output_type": "stream",
     "text": [
      "1\n",
      "21\n",
      "321\n",
      "4321\n"
     ]
    }
   ],
   "source": [
    "n=int(input(\"Enter a num:\"))\n",
    "res=0\n",
    "\n",
    "for i in range(1,n+1):\n",
    "    for j in range(i,0,-1):\n",
    "        print(j,end=\"\")\n",
    "    #n=n-1    \n",
    "    print('')"
   ]
  },
  {
   "cell_type": "code",
   "execution_count": 10,
   "id": "bab0db2a-07e7-4d39-8d57-72b7ace17425",
   "metadata": {},
   "outputs": [
    {
     "name": "stdin",
     "output_type": "stream",
     "text": [
      "Enter a message: 5\n"
     ]
    },
    {
     "name": "stdout",
     "output_type": "stream",
     "text": [
      "1\n",
      "121\n",
      "12321\n",
      "1234321\n",
      "123454321\n"
     ]
    }
   ],
   "source": [
    "n = int(input(\"Enter a number:\"))\n",
    "\n",
    "for i in range(1, n + 1):\n",
    "    for j in range(1, i + 1):\n",
    "        print(j, end=\"\")\n",
    "    for j in range(i - 1, 0, -1):\n",
    "        print(j, end=\"\")\n",
    "    print()\n"
   ]
  }
 ],
 "metadata": {
  "kernelspec": {
   "display_name": "Python 3 (ipykernel)",
   "language": "python",
   "name": "python3"
  },
  "language_info": {
   "codemirror_mode": {
    "name": "ipython",
    "version": 3
   },
   "file_extension": ".py",
   "mimetype": "text/x-python",
   "name": "python",
   "nbconvert_exporter": "python",
   "pygments_lexer": "ipython3",
   "version": "3.12.7"
  }
 },
 "nbformat": 4,
 "nbformat_minor": 5
}
