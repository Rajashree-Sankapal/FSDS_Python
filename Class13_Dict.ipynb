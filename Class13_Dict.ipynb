{
 "cells": [
  {
   "cell_type": "code",
   "execution_count": 257,
   "id": "26b2b8cd-1702-4230-8d4e-7d0c7af6b7ea",
   "metadata": {},
   "outputs": [
    {
     "name": "stdout",
     "output_type": "stream",
     "text": [
      "<class 'dict'>\n",
      "shrija@gmail.com,vin@gmail.com\n"
     ]
    }
   ],
   "source": [
    "test={\"name\": \"Raji\",\"age\":20,\"mail\":\"shrija@gmail.com,vin@gmail.com\"}\n",
    "print(type(test))\n",
    "print(test[\"mail\"])"
   ]
  },
  {
   "cell_type": "code",
   "execution_count": 259,
   "id": "4f03f8aa-e280-4937-bb87-ad6f36ae1121",
   "metadata": {},
   "outputs": [
    {
     "ename": "KeyError",
     "evalue": "'phone'",
     "output_type": "error",
     "traceback": [
      "\u001b[1;31m---------------------------------------------------------------------------\u001b[0m",
      "\u001b[1;31mKeyError\u001b[0m                                  Traceback (most recent call last)",
      "Cell \u001b[1;32mIn[259], line 1\u001b[0m\n\u001b[1;32m----> 1\u001b[0m \u001b[38;5;28mprint\u001b[39m(test[\u001b[38;5;124m'\u001b[39m\u001b[38;5;124mphone\u001b[39m\u001b[38;5;124m'\u001b[39m])\n",
      "\u001b[1;31mKeyError\u001b[0m: 'phone'"
     ]
    }
   ],
   "source": [
    "print(test['phone'])"
   ]
  },
  {
   "cell_type": "code",
   "execution_count": 23,
   "id": "8c8eb1d7-dd5e-44cf-8e65-53d51118ec5c",
   "metadata": {},
   "outputs": [
    {
     "name": "stdout",
     "output_type": "stream",
     "text": [
      "None\n"
     ]
    }
   ],
   "source": [
    "test.get('phone')\n",
    "print(test.get('phone'))"
   ]
  },
  {
   "cell_type": "code",
   "execution_count": 63,
   "id": "2c3240d5-580b-41e4-b431-47a29aceb8b2",
   "metadata": {},
   "outputs": [],
   "source": [
    "test1={\"course\":{\"name\": \"Raji\",\"age\":20,\"mail\":\"shrija@gmail.com,vin@gmail.com\"},\n",
    "     \"work\":{\"name\": \"Raji\",\"age\":20,\"mail\":\"shrija@gmail.com,vin@gmail.com\"} }"
   ]
  },
  {
   "cell_type": "code",
   "execution_count": 43,
   "id": "0856fc0d-4697-4e93-aca2-58c719085ecd",
   "metadata": {},
   "outputs": [
    {
     "data": {
      "text/plain": [
       "{'name': 'Raji', 'age': 20, 'mail': 'shrija@gmail.com,vin@gmail.com'}"
      ]
     },
     "execution_count": 43,
     "metadata": {},
     "output_type": "execute_result"
    }
   ],
   "source": [
    "test1['work']"
   ]
  },
  {
   "cell_type": "code",
   "execution_count": 53,
   "id": "50f150bb-c508-40d1-a5fc-d19df713fd60",
   "metadata": {},
   "outputs": [
    {
     "name": "stdout",
     "output_type": "stream",
     "text": [
      "Raji\n",
      "shrija@gmail.com,vin@gmail.com\n"
     ]
    }
   ],
   "source": [
    "print(test1['work']['name'])\n",
    "print(test1.get('course').get('mail'))"
   ]
  },
  {
   "cell_type": "code",
   "execution_count": 71,
   "id": "19a89df0-216d-47fa-a884-df510b7b3516",
   "metadata": {},
   "outputs": [
    {
     "name": "stdout",
     "output_type": "stream",
     "text": [
      "dict_values(['Raji', 20, 'shrija@gmail.com,vin@gmail.com'])\n",
      "dict_values([{'name': 'Raji', 'age': 20, 'mail': 'shrija@gmail.com,vin@gmail.com'}, {'name': 'Raji', 'age': 20, 'mail': 'shrija@gmail.com,vin@gmail.com'}])\n",
      "3\n",
      "dict_items([('name', 'Raji'), ('age', 20), ('mail', 'shrija@gmail.com,vin@gmail.com')])\n"
     ]
    }
   ],
   "source": [
    "#to get all the values\n",
    "test={\"name\": \"Raji\",\"age\":20,\"mail\":\"shrija@gmail.com,vin@gmail.com\"}\n",
    "print(test.values())\n",
    "print(test1.values())\n",
    "print(len(test))\n",
    "print(test.items())"
   ]
  },
  {
   "cell_type": "code",
   "execution_count": 77,
   "id": "ad04d005-36ea-4126-aefe-1b8f41ca417f",
   "metadata": {},
   "outputs": [
    {
     "name": "stdout",
     "output_type": "stream",
     "text": [
      "('name', 'Raji')\n",
      "('age', 20)\n",
      "('mail', 'shrija@gmail.com,vin@gmail.com')\n"
     ]
    }
   ],
   "source": [
    "temp=test.items()\n",
    "for i in temp:\n",
    "    print(i)"
   ]
  },
  {
   "cell_type": "code",
   "execution_count": 129,
   "id": "2a64c9c3-638f-41e4-80b5-3473caad0cff",
   "metadata": {},
   "outputs": [],
   "source": [
    "test={\"name\": \"Raji\",\"age\":20,\"mail\":\"shrija@gmail.com,vin@gmail.com\"}"
   ]
  },
  {
   "cell_type": "code",
   "execution_count": 85,
   "id": "de42a005-ab3f-4471-8af2-e6d131eab5d8",
   "metadata": {},
   "outputs": [
    {
     "name": "stdout",
     "output_type": "stream",
     "text": [
      "name\n",
      "age\n",
      "mail\n"
     ]
    }
   ],
   "source": [
    "for j in test:\n",
    "    print(j) #by default it will print the keys list"
   ]
  },
  {
   "cell_type": "code",
   "execution_count": 89,
   "id": "1fbb8012-38d1-4037-bdbb-c7c49cffb585",
   "metadata": {},
   "outputs": [
    {
     "name": "stdout",
     "output_type": "stream",
     "text": [
      "Raji\n",
      "20\n",
      "shrija@gmail.com,vin@gmail.com\n"
     ]
    }
   ],
   "source": [
    "for k in test.values(): #use values() method here to get only values from the dict\n",
    "    print(k)"
   ]
  },
  {
   "cell_type": "code",
   "execution_count": 107,
   "id": "ba368f40-6a3a-436f-bd8c-58e17b0df96d",
   "metadata": {},
   "outputs": [
    {
     "name": "stdout",
     "output_type": "stream",
     "text": [
      "name : Raji\n",
      "age : 20\n",
      "mail : shrija@gmail.com,vin@gmail.com\n"
     ]
    }
   ],
   "source": [
    "#to print both key value we should define 2 variables in for loop\n",
    "\n",
    "for key,val in test.items(): #this is also called unpacking, which break key and values using items() method\n",
    "    print(key,':', val)"
   ]
  },
  {
   "cell_type": "code",
   "execution_count": 119,
   "id": "7d2acbc0-39f5-471a-9bee-6e1b940c6378",
   "metadata": {},
   "outputs": [
    {
     "data": {
      "text/plain": [
       "{'name': 'Raji',\n",
       " 'age': 20,\n",
       " 'mail': 'shrija@gmail.com,vin@gmail.com',\n",
       " 'name1': 'Raji'}"
      ]
     },
     "execution_count": 119,
     "metadata": {},
     "output_type": "execute_result"
    }
   ],
   "source": [
    "#we can't change the key name in dict but to do that, we can assign newkey with old key. this will add new items with new key name. If we don't want old key then delete it\n",
    "#newkey='name1'\n",
    "test['name1']=test['name']\n",
    "test"
   ]
  },
  {
   "cell_type": "code",
   "execution_count": 131,
   "id": "72a14c61-725a-4167-ac59-fbd679829751",
   "metadata": {},
   "outputs": [
    {
     "data": {
      "text/plain": [
       "{'age': 20, 'mail': 'shrija@gmail.com,vin@gmail.com', 'name1': 'Raji'}"
      ]
     },
     "execution_count": 131,
     "metadata": {},
     "output_type": "execute_result"
    }
   ],
   "source": [
    "test['name1']=test['name']\n",
    "del test['name']\n",
    "test\n"
   ]
  },
  {
   "cell_type": "code",
   "execution_count": 139,
   "id": "3f47025a-c291-4782-9eb9-85b7cfce50ec",
   "metadata": {},
   "outputs": [
    {
     "data": {
      "text/plain": [
       "{'age': 20,\n",
       " 'mail': 'shrija@gmail.com,vin@gmail.com',\n",
       " 'name1': 'Raji',\n",
       " 'name': 'Dhairya'}"
      ]
     },
     "execution_count": 139,
     "metadata": {},
     "output_type": "execute_result"
    }
   ],
   "source": [
    "test['name']='Dhairya'\n",
    "test"
   ]
  },
  {
   "cell_type": "code",
   "execution_count": 143,
   "id": "06f12734-5f82-4d25-aa35-cae809eef085",
   "metadata": {},
   "outputs": [],
   "source": [
    "#concate multiple dictionaries\n",
    "\n",
    "dic1={1:10,2:20}\n",
    "dic2={3:30,4:40}\n",
    "dic3={5:50,6:60}"
   ]
  },
  {
   "cell_type": "code",
   "execution_count": 153,
   "id": "2e4f2202-a8c5-4450-9203-93c507c5b2ae",
   "metadata": {},
   "outputs": [
    {
     "name": "stdout",
     "output_type": "stream",
     "text": [
      "{1: 10, 2: 20, 3: 30, 4: 40, 5: 50, 6: 60}\n"
     ]
    }
   ],
   "source": [
    "diction=dic1 | dic2 | dic3\n",
    "print(diction)"
   ]
  },
  {
   "cell_type": "code",
   "execution_count": 159,
   "id": "70ac2251-400c-4dbc-a913-6bc2bf21d4bf",
   "metadata": {},
   "outputs": [
    {
     "name": "stdout",
     "output_type": "stream",
     "text": [
      "{1: 10, 2: 20, 3: 30, 4: 40, 5: 50, 6: 60}\n"
     ]
    }
   ],
   "source": [
    "#using for loop\n",
    "final={}\n",
    "\n",
    "for d in [dic1,dic2,dic3]:\n",
    "    final.update(d)\n",
    "\n",
    "print(final)"
   ]
  },
  {
   "cell_type": "code",
   "execution_count": 228,
   "id": "fe49a2f3-67ca-478a-a52d-a0ed4303d238",
   "metadata": {},
   "outputs": [
    {
     "name": "stdin",
     "output_type": "stream",
     "text": [
      "enter a key:  7\n"
     ]
    },
    {
     "name": "stdout",
     "output_type": "stream",
     "text": [
      "no\n"
     ]
    }
   ],
   "source": [
    "#WAP to check if given key already exists in a dictionary\n",
    "d={1: 10, 2: 20, 3: 30, 4: 40, 5: 50, 6: 60}\n",
    "\n",
    "key=int(input('enter a key: '))\n",
    "dup=0\n",
    "\n",
    "for i in d.keys():\n",
    "    if i==key:\n",
    "        print('yes')\n",
    "        break\n",
    "else:\n",
    "    print('no')"
   ]
  },
  {
   "cell_type": "code",
   "execution_count": 230,
   "id": "bf1aeb12-f08d-4b48-be22-ff77900971fd",
   "metadata": {},
   "outputs": [
    {
     "name": "stdin",
     "output_type": "stream",
     "text": [
      "enter a key:  2\n"
     ]
    },
    {
     "name": "stdout",
     "output_type": "stream",
     "text": [
      "yes\n"
     ]
    }
   ],
   "source": [
    "#WAP to check if given key already exists in a dictionary\n",
    "d={1: 10, 2: 20, 3: 30, 4: 40, 5: 50, 6: 60}\n",
    "\n",
    "key=int(input('enter a key: '))\n",
    "dup=0\n",
    "\n",
    "if key in d:\n",
    "    print('yes')\n",
    "else:\n",
    "    print('no')\n",
    "        "
   ]
  },
  {
   "cell_type": "code",
   "execution_count": 240,
   "id": "888906ac-cbb7-412f-b933-e1c871952d9e",
   "metadata": {},
   "outputs": [
    {
     "name": "stdout",
     "output_type": "stream",
     "text": [
      "354\n"
     ]
    }
   ],
   "source": [
    "#WAP to sum all the values in dictionary\n",
    "\n",
    "dics={'data': 100, 'data2':54,'data3':200}\n",
    "\n",
    "result=0\n",
    "\n",
    "for i in dics.values():\n",
    "    result +=i\n",
    "\n",
    "print(result)"
   ]
  },
  {
   "cell_type": "code",
   "execution_count": 250,
   "id": "d878fd37-aef5-4e83-ac6b-4fefb52c9f8b",
   "metadata": {},
   "outputs": [
    {
     "name": "stdout",
     "output_type": "stream",
     "text": [
      "{'a': 1, 'b': 2, 'c': 3, 'd': 4, 'e': 5}\n"
     ]
    }
   ],
   "source": [
    "#WAP to create dictionary using 2 lists\n",
    "list1=['a','b','c','d','e']\n",
    "list2=[1,2,3,4,5]\n",
    "\n",
    "diction={l1:l2 for l1,l2 in zip(list1,list2)}\n",
    "\n",
    "print(diction)\n"
   ]
  },
  {
   "cell_type": "code",
   "execution_count": 263,
   "id": "e9847505-f4e0-4156-8215-cde7b22fcd46",
   "metadata": {},
   "outputs": [
    {
     "name": "stdout",
     "output_type": "stream",
     "text": [
      "{'Math': 81, 'Physics': 90, 'Chemestry': 85, 'English': None, 'Hindi': 85}\n"
     ]
    }
   ],
   "source": [
    "sample={'Math':81,'Physics':90,'Chemestry':85,'English':None}\n",
    "\n",
    "#print(sample['Math'])\n",
    "sample['Hindi']=85\n",
    "print(sample)"
   ]
  },
  {
   "cell_type": "code",
   "execution_count": 275,
   "id": "fcce061f-a78c-460b-abfd-7cfaf491447f",
   "metadata": {},
   "outputs": [
    {
     "name": "stdout",
     "output_type": "stream",
     "text": [
      "{'Math': 81, 'Physics': 90, 'Chemestry': 85, 'English': 95, 'Hindi': 85}\n"
     ]
    }
   ],
   "source": [
    "sample['English']=95\n",
    "print(sample)"
   ]
  },
  {
   "cell_type": "code",
   "execution_count": 316,
   "id": "ff780bb7-6b47-4e7f-b112-86a4802726f3",
   "metadata": {},
   "outputs": [
    {
     "name": "stdout",
     "output_type": "stream",
     "text": [
      "{'key1': 1, 'key2': 2, 'key3': 3}\n"
     ]
    }
   ],
   "source": [
    "dict1={'key1':1,'key2':2,'key3':3,'key4':None}\n",
    "\n",
    "for x in list(dict1.keys()):\n",
    "    if dict1[x] is None:\n",
    "        del dict1[x]\n",
    "\n",
    "print(dict1)"
   ]
  }
 ],
 "metadata": {
  "kernelspec": {
   "display_name": "Python 3 (ipykernel)",
   "language": "python",
   "name": "python3"
  },
  "language_info": {
   "codemirror_mode": {
    "name": "ipython",
    "version": 3
   },
   "file_extension": ".py",
   "mimetype": "text/x-python",
   "name": "python",
   "nbconvert_exporter": "python",
   "pygments_lexer": "ipython3",
   "version": "3.12.7"
  }
 },
 "nbformat": 4,
 "nbformat_minor": 5
}
