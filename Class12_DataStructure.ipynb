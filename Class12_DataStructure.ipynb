{
 "cells": [
  {
   "cell_type": "code",
   "execution_count": 3,
   "id": "87aa6006-1903-4986-be46-9a046ae7859e",
   "metadata": {},
   "outputs": [],
   "source": [
    "list1=[1,2,3,4]"
   ]
  },
  {
   "cell_type": "code",
   "execution_count": 9,
   "id": "f7b36181-1575-49a5-8a46-8e7ae97ddf7f",
   "metadata": {},
   "outputs": [
    {
     "name": "stdout",
     "output_type": "stream",
     "text": [
      "[1, 2, 3, 4]\n"
     ]
    },
    {
     "data": {
      "text/plain": [
       "list"
      ]
     },
     "execution_count": 9,
     "metadata": {},
     "output_type": "execute_result"
    }
   ],
   "source": [
    "print(list1)\n",
    "type(list1)"
   ]
  },
  {
   "cell_type": "code",
   "execution_count": 15,
   "id": "180c3fdd-9d91-454c-a9f7-8ea4d6ab8c85",
   "metadata": {},
   "outputs": [],
   "source": [
    "list2=[\"raj\",\"vins\",\"Raj\"]\n",
    "list3=[\"raj\",1,0.5]"
   ]
  },
  {
   "cell_type": "code",
   "execution_count": 17,
   "id": "7397213f-85b7-49e8-b2c8-48424df7562a",
   "metadata": {},
   "outputs": [],
   "source": [
    "#List Index"
   ]
  },
  {
   "cell_type": "code",
   "execution_count": 28,
   "id": "e47aab6b-b0d7-4287-aac5-cfb6abb9fe16",
   "metadata": {},
   "outputs": [
    {
     "data": {
      "text/plain": [
       "'Yellow'"
      ]
     },
     "execution_count": 28,
     "metadata": {},
     "output_type": "execute_result"
    }
   ],
   "source": [
    "color=['Red','Blue','Green','Yellow']\n",
    "color[3]"
   ]
  },
  {
   "cell_type": "code",
   "execution_count": 32,
   "id": "c6fd566c-af7b-4591-b1c0-cf07a0e52a6f",
   "metadata": {},
   "outputs": [
    {
     "name": "stdout",
     "output_type": "stream",
     "text": [
      "Green\n"
     ]
    }
   ],
   "source": [
    " print(color[-2])"
   ]
  },
  {
   "cell_type": "code",
   "execution_count": 38,
   "id": "b60be1e7-732c-451c-8412-5d853a1170f9",
   "metadata": {},
   "outputs": [
    {
     "name": "stdout",
     "output_type": "stream",
     "text": [
      "Yellow\n"
     ]
    }
   ],
   "source": [
    " print(color[len(color)-1])"
   ]
  },
  {
   "cell_type": "code",
   "execution_count": 50,
   "id": "ad39fe68-7ae3-4351-889a-fcfe87744113",
   "metadata": {},
   "outputs": [
    {
     "name": "stdout",
     "output_type": "stream",
     "text": [
      "yes\n"
     ]
    }
   ],
   "source": [
    "if \"Green\" in color:\n",
    "    print(\"yes\")\n",
    "else:\n",
    "    print(\"No\")\n",
    "    "
   ]
  },
  {
   "cell_type": "code",
   "execution_count": 52,
   "id": "a110c8e7-f56d-490f-99c0-22d0488f3dc9",
   "metadata": {},
   "outputs": [
    {
     "name": "stdout",
     "output_type": "stream",
     "text": [
      "Red\n",
      "Blue\n",
      "Green\n",
      "Yellow\n"
     ]
    }
   ],
   "source": [
    "for i in color:\n",
    "    print(i)"
   ]
  },
  {
   "cell_type": "code",
   "execution_count": 62,
   "id": "29db31ca-c693-4d56-aabb-a645df7672e9",
   "metadata": {},
   "outputs": [
    {
     "name": "stdout",
     "output_type": "stream",
     "text": [
      "0 Red\n",
      "1 Blue\n",
      "2 Green\n",
      "3 Yellow\n"
     ]
    }
   ],
   "source": [
    "for i in range(len(color)):\n",
    "    print(i,color[i])"
   ]
  },
  {
   "cell_type": "markdown",
   "id": "67f25f39-cc88-46f8-b424-7559a3faa926",
   "metadata": {},
   "source": [
    "***Range of Index***"
   ]
  },
  {
   "cell_type": "code",
   "execution_count": 5,
   "id": "2bd3392c-2ac6-4217-9ce6-9b4ecf9526c8",
   "metadata": {},
   "outputs": [
    {
     "data": {
      "text/plain": [
       "['Red', 'Blue', 'Green', 'Yellow']"
      ]
     },
     "execution_count": 5,
     "metadata": {},
     "output_type": "execute_result"
    }
   ],
   "source": [
    "color=['Red','Blue','Green','Yellow']\n",
    "color"
   ]
  },
  {
   "cell_type": "code",
   "execution_count": 7,
   "id": "2a1c316f-fa16-40e9-be89-1145d6261210",
   "metadata": {},
   "outputs": [
    {
     "name": "stdout",
     "output_type": "stream",
     "text": [
      "Green\n"
     ]
    }
   ],
   "source": [
    "print(color[len(color)-2])"
   ]
  },
  {
   "cell_type": "code",
   "execution_count": 75,
   "id": "44e44d24-27f5-479e-840f-27906a4b7e48",
   "metadata": {},
   "outputs": [
    {
     "data": {
      "text/plain": [
       "['Red', 'Blue', 'Green']"
      ]
     },
     "execution_count": 75,
     "metadata": {},
     "output_type": "execute_result"
    }
   ],
   "source": [
    "color[0:3]"
   ]
  },
  {
   "cell_type": "code",
   "execution_count": 77,
   "id": "45ebfd0c-0df7-4d00-a931-b9c319d20ee9",
   "metadata": {},
   "outputs": [
    {
     "data": {
      "text/plain": [
       "['Red', 'Green']"
      ]
     },
     "execution_count": 77,
     "metadata": {},
     "output_type": "execute_result"
    }
   ],
   "source": [
    "color[0:3:2]"
   ]
  },
  {
   "cell_type": "code",
   "execution_count": 81,
   "id": "f74ee768-561a-499b-ac2f-d6c0dc088bf3",
   "metadata": {},
   "outputs": [
    {
     "name": "stdout",
     "output_type": "stream",
     "text": [
      "['apple', 'banana', 'cherry']\n"
     ]
    }
   ],
   "source": [
    "thislist = list((\"apple\", \"banana\", \"cherry\")) # note the double round-brackets\n",
    "print(thislist)\n"
   ]
  },
  {
   "cell_type": "code",
   "execution_count": 101,
   "id": "ffc33f52-4439-4ed5-bc19-540c60facc28",
   "metadata": {},
   "outputs": [
    {
     "name": "stdout",
     "output_type": "stream",
     "text": [
      "Yes\n",
      "Done\n"
     ]
    }
   ],
   "source": [
    "for i in range(len(color)):\n",
    "    if 'Red' in color:\n",
    "        print('Yes')\n",
    "        break\n",
    "    else:\n",
    "        print('No')\n",
    "print('Done')"
   ]
  },
  {
   "cell_type": "code",
   "execution_count": 105,
   "id": "2089f3a0-4a03-4541-b38e-5fb778072e66",
   "metadata": {},
   "outputs": [
    {
     "name": "stdout",
     "output_type": "stream",
     "text": [
      "Odd\n",
      "Even\n",
      "Odd\n",
      "Even\n",
      "Odd\n",
      "Even\n",
      "Odd\n",
      "Even\n",
      "Odd\n",
      "Done\n"
     ]
    }
   ],
   "source": [
    "numlist=[1,2,3,4,5,6,7,8,9]\n",
    "\n",
    "for i in numlist:\n",
    "    if i%2==0:\n",
    "        print('Even')\n",
    "    else:\n",
    "        print('Odd')\n",
    "print('Done')"
   ]
  },
  {
   "cell_type": "code",
   "execution_count": 113,
   "id": "9fc0c75d-5e94-47af-9a39-fdcf153ad646",
   "metadata": {},
   "outputs": [
    {
     "name": "stdout",
     "output_type": "stream",
     "text": [
      "[1, 2, 3, 4, 5, 6, 7, 8, 10]\n"
     ]
    }
   ],
   "source": [
    "numlist[8]=10\n",
    "print(numlist)"
   ]
  },
  {
   "cell_type": "code",
   "execution_count": 125,
   "id": "10a763c0-9c14-4da1-b724-d1557f8c42be",
   "metadata": {},
   "outputs": [
    {
     "name": "stdout",
     "output_type": "stream",
     "text": [
      "8\n",
      "BlueGreen\n"
     ]
    }
   ],
   "source": [
    "a=numlist[1]*numlist[3]\n",
    "print(a)\n",
    "b=color[1]+color[2]\n",
    "print(b)"
   ]
  },
  {
   "cell_type": "markdown",
   "id": "56245b43-2281-4677-ac79-a403cb03eac3",
   "metadata": {},
   "source": [
    "***List Comprehension***"
   ]
  },
  {
   "cell_type": "code",
   "execution_count": 151,
   "id": "345d1202-3dbc-45a8-863b-583660c2391e",
   "metadata": {},
   "outputs": [
    {
     "name": "stdout",
     "output_type": "stream",
     "text": [
      "[2, 4, 6, 8, 10]\n",
      "['no', 'yes', 'no', 'yes', 'no', 'yes', 'no', 'yes', 'yes']\n"
     ]
    }
   ],
   "source": [
    "numlist=[1, 2, 3, 4, 5, 6, 7, 8, 10]\n",
    "newlist=[i for i in numlist if i%2==0]\n",
    "print(newlist)\n",
    "\n",
    "newlist2=[\"yes\" if i%2==0 else \"no\" for i in numlist]\n",
    "print(newlist2)"
   ]
  },
  {
   "cell_type": "code",
   "execution_count": 165,
   "id": "f7fe66a8-7bca-45d1-978f-c16a34d62a95",
   "metadata": {},
   "outputs": [
    {
     "name": "stdout",
     "output_type": "stream",
     "text": [
      "1\n",
      "2\n",
      "3\n",
      "4\n"
     ]
    }
   ],
   "source": [
    "n=5\n",
    "\n",
    "for n in range(1,5):\n",
    "    print(n)\n"
   ]
  },
  {
   "cell_type": "code",
   "execution_count": 175,
   "id": "3a0a4782-0696-4273-8f7d-9eaa08eb29fa",
   "metadata": {},
   "outputs": [
    {
     "name": "stdout",
     "output_type": "stream",
     "text": [
      "Not Weird\n"
     ]
    }
   ],
   "source": [
    "n=34\n",
    "if n%2!=0:\n",
    "    print('Weird')\n",
    "elif (n%2==0) and (n in range(2,6)):\n",
    "    print('Not Weird')\n",
    "elif (n%2==0) and (n in range(6,21)):\n",
    "    print('Weird')\n",
    "elif (n%2==0) and n>20:\n",
    "    print('Not Weird')\n",
    "else:\n",
    "    print('')  "
   ]
  },
  {
   "cell_type": "code",
   "execution_count": 9,
   "id": "5d5b4bfd-8b22-4072-843c-232844848b4b",
   "metadata": {},
   "outputs": [
    {
     "name": "stdin",
     "output_type": "stream",
     "text": [
      " 3\n"
     ]
    },
    {
     "name": "stdout",
     "output_type": "stream",
     "text": [
      "0\n",
      "1\n",
      "4\n"
     ]
    }
   ],
   "source": [
    " n = int(input())\n",
    "    \n",
    "for i in range(n):\n",
    "        print(i**2)"
   ]
  },
  {
   "cell_type": "code",
   "execution_count": 21,
   "id": "41dfce8e-35d0-4b39-b9ee-c326f3e0675b",
   "metadata": {},
   "outputs": [
    {
     "name": "stdin",
     "output_type": "stream",
     "text": [
      "Enter a num:  4\n"
     ]
    },
    {
     "name": "stdout",
     "output_type": "stream",
     "text": [
      "[2, 4, 6]\n"
     ]
    }
   ],
   "source": [
    "#list by user\n",
    "\n",
    "list1=[]\n",
    "\n",
    "n=int(input(\"Enter a num: \"))\n",
    "\n",
    "for i in range(1,n):\n",
    "    item=i*2\n",
    "    list1.append(item)\n",
    "\n",
    "print(list1)\n"
   ]
  },
  {
   "cell_type": "code",
   "execution_count": 23,
   "id": "c8770d96-d692-4fc6-a2be-eed89d21cc34",
   "metadata": {},
   "outputs": [
    {
     "name": "stdin",
     "output_type": "stream",
     "text": [
      "Enter number of elements :  4\n",
      " 10\n",
      " 20\n",
      " 30\n",
      " 40\n"
     ]
    },
    {
     "name": "stdout",
     "output_type": "stream",
     "text": [
      "[10, 20, 30, 40]\n"
     ]
    }
   ],
   "source": [
    "# creating an empty list\n",
    "lst = []\n",
    " \n",
    "# number of elements as input\n",
    "n = int(input(\"Enter number of elements : \"))\n",
    " \n",
    "# iterating till the range\n",
    "for i in range(0, n):\n",
    "    ele = int(input())\n",
    "    # adding the element\n",
    "    lst.append(ele)  \n",
    " \n",
    "print(lst)\n"
   ]
  },
  {
   "cell_type": "code",
   "execution_count": 39,
   "id": "3420c4cd-84f4-4a17-8087-0221c8fe56df",
   "metadata": {},
   "outputs": [
    {
     "name": "stdout",
     "output_type": "stream",
     "text": [
      "[1, 2, 3, 4]\n"
     ]
    }
   ],
   "source": [
    "list1=list((1,2,3,4))\n",
    "print(list1)"
   ]
  },
  {
   "cell_type": "code",
   "execution_count": 49,
   "id": "acece0ff-c05e-4bbb-8866-fd59e87faa21",
   "metadata": {},
   "outputs": [
    {
     "name": "stdout",
     "output_type": "stream",
     "text": [
      "[4, 3, 2, 1]\n",
      "[1, 2, 3, 4]\n"
     ]
    }
   ],
   "source": [
    "#list1.reverse()\n",
    "print(list1[::-1])\n",
    "print(list1)\n"
   ]
  },
  {
   "cell_type": "code",
   "execution_count": 71,
   "id": "1c0bfdf6-7c73-4c65-b096-0c5fa06444b7",
   "metadata": {},
   "outputs": [
    {
     "data": {
      "text/plain": [
       "[1, 2, 3, 4, 5, 6, 7, 8]"
      ]
     },
     "execution_count": 71,
     "metadata": {},
     "output_type": "execute_result"
    }
   ],
   "source": [
    "numlist=[1, 2, 3, 4, 5, 6, 7, 8, 10]\n",
    "numlist.count(2)\n",
    "\n",
    "numlist.pop()\n",
    "numlist"
   ]
  },
  {
   "cell_type": "code",
   "execution_count": 75,
   "id": "72ff5e97-41c1-4c57-b6ba-dafbc80e9143",
   "metadata": {},
   "outputs": [
    {
     "data": {
      "text/plain": [
       "1"
      ]
     },
     "execution_count": 75,
     "metadata": {},
     "output_type": "execute_result"
    }
   ],
   "source": [
    "numlist=(1, 2, 3, 4, 5)\n",
    "\n",
    "numlist.count(3)"
   ]
  }
 ],
 "metadata": {
  "kernelspec": {
   "display_name": "Python 3 (ipykernel)",
   "language": "python",
   "name": "python3"
  },
  "language_info": {
   "codemirror_mode": {
    "name": "ipython",
    "version": 3
   },
   "file_extension": ".py",
   "mimetype": "text/x-python",
   "name": "python",
   "nbconvert_exporter": "python",
   "pygments_lexer": "ipython3",
   "version": "3.12.7"
  }
 },
 "nbformat": 4,
 "nbformat_minor": 5
}
