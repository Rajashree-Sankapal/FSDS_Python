{
 "cells": [
  {
   "cell_type": "markdown",
   "id": "61b0b341-92b0-45b2-a97a-d166bce896de",
   "metadata": {},
   "source": [
    "***Assignment Class-12***"
   ]
  },
  {
   "cell_type": "markdown",
   "id": "e072d226-f72c-4600-a9e6-d53227f8c948",
   "metadata": {},
   "source": [
    "'''1. WAP to sum all the item in a list\n",
    "2. WAP to get the largest number from list\n",
    "3. WAP to clone or copy item in a list\n",
    "4. WAP to access the index of an element present in a list'''"
   ]
  },
  {
   "cell_type": "code",
   "execution_count": 9,
   "id": "f2260b85-56d6-48a2-9417-d467f7f2b896",
   "metadata": {},
   "outputs": [
    {
     "name": "stdout",
     "output_type": "stream",
     "text": [
      "55\n"
     ]
    }
   ],
   "source": [
    "#1. WAP to sum all the item in a list\n",
    "\n",
    "a=[1,2,3,4,5,6,7,8,9,10]\n",
    "b=0\n",
    "\n",
    "for i in a:\n",
    "    b+=i\n",
    "\n",
    "print(b)"
   ]
  },
  {
   "cell_type": "code",
   "execution_count": 39,
   "id": "7a0c5c07-4c18-4c4a-8002-8f74697c5153",
   "metadata": {},
   "outputs": [
    {
     "name": "stdout",
     "output_type": "stream",
     "text": [
      "130\n"
     ]
    }
   ],
   "source": [
    "#2. WAP to get the largest number from list\n",
    "\n",
    "list1=[100,80,59,45,69,130,23,24,68]\n",
    "maxnum=list1[0]\n",
    "\n",
    "for i in list1:\n",
    "    if i > maxnum:\n",
    "        maxnum=i\n",
    "        \n",
    "print(maxnum)\n",
    "\n"
   ]
  },
  {
   "cell_type": "code",
   "execution_count": 21,
   "id": "1d49ffdc-eab3-4802-a69f-95cf48463531",
   "metadata": {},
   "outputs": [
    {
     "name": "stdout",
     "output_type": "stream",
     "text": [
      "Yes\n"
     ]
    }
   ],
   "source": [
    "#3. WAP to clone or copy item in a list. If duplicate, print yes else no\n",
    "\n",
    "list1=[100,80,59,45,69,80,130,23,24,68]\n",
    "dup_found= False\n",
    "\n",
    "for i in range(len(list1)):\n",
    "    for j in range(i+1,len(list1)):\n",
    "        if list1[i]==list1[j]:\n",
    "            dup_found=True\n",
    "            break\n",
    "    if dup_found:\n",
    "        break\n",
    "\n",
    "\n",
    "if dup_found:\n",
    "    print('Yes')\n",
    "else:\n",
    "    print('No')\n"
   ]
  },
  {
   "cell_type": "code",
   "execution_count": 25,
   "id": "f7ec7932-e560-4f4d-84c1-e34c378f214c",
   "metadata": {},
   "outputs": [
    {
     "name": "stdin",
     "output_type": "stream",
     "text": [
      "enter a number:  30\n"
     ]
    },
    {
     "name": "stdout",
     "output_type": "stream",
     "text": [
      "Yes\n"
     ]
    }
   ],
   "source": [
    "#4. WAP to access the index of an element in the list\n",
    "\n",
    "my_list = [10, 20, 30, 40, 50]\n",
    "\n",
    "# Element to find\n",
    "element =int(input('enter a number: '))\n",
    "\n",
    "# Check if the element exists in the list\n",
    "if element in my_list:\n",
    "    #index = my_list.index(element)\n",
    "    print('Yes')\n",
    "else:\n",
    "    print('No')\n"
   ]
  },
  {
   "cell_type": "markdown",
   "id": "cd996afa-2ea4-4050-a59c-c328d51e67aa",
   "metadata": {},
   "source": [
    "***Assignment Class-13***"
   ]
  },
  {
   "cell_type": "code",
   "execution_count": 39,
   "id": "1972e7f2-f20a-4ed4-a61f-18ca39f23d87",
   "metadata": {},
   "outputs": [
    {
     "name": "stdout",
     "output_type": "stream",
     "text": [
      "The count of values in the list is:  14\n"
     ]
    }
   ],
   "source": [
    "#WAP to count number of items in dictionary value that is the list\n",
    "\n",
    "d = {'A' : [1, 2, 3, 4, 5, 6, 7, 8, 9],\n",
    "        'B' : 34,\n",
    "        'C' : 12,\n",
    "        'D' : [7, 8, 9, 6, 4] }\n",
    "count=0\n",
    "\n",
    "for x in d.values():\n",
    "    if type(x)==list:\n",
    "        count+=len(x)\n",
    "\n",
    "print(\"The count of values in the list is: \",count)\n"
   ]
  },
  {
   "cell_type": "code",
   "execution_count": 58,
   "id": "33ec29cc-166b-4889-8f87-c1c8c761d4c6",
   "metadata": {},
   "outputs": [
    {
     "name": "stdout",
     "output_type": "stream",
     "text": [
      "{'Math': 81, 'Physics': 90, 'Chemestry': 85, 'English': 95}\n",
      "('Chemestry', 85)('English', 95)('Math', 81)('Physics', 90)"
     ]
    }
   ],
   "source": [
    "#WAP to sort counter by key\n",
    "sample={'Math':81,'Physics':90,'Chemestry':85,'English':95}\n",
    "\n",
    "print(sample)\n",
    "for sub in sorted(sample):\n",
    "    print((sub,sample[sub]),end=\"\")\n",
    "    "
   ]
  },
  {
   "cell_type": "code",
   "execution_count": 63,
   "id": "05722a00-4ab6-462c-bf68-cf189545fab2",
   "metadata": {},
   "outputs": [
    {
     "name": "stdout",
     "output_type": "stream",
     "text": [
      "key1:1 is present in both x and y\n",
      "key2:2 is present in both x and y\n"
     ]
    }
   ],
   "source": [
    "#WAP to matchkey values in two dictionaries\n",
    "dict1={'key1':1,'key2':2,'key3':3}\n",
    "dict2={'key1':1,'key2':2}\n",
    "#expected o/p = key1:1 is present in both x and y\n",
    "\n",
    "# Iterate through the keys in the first dictionary\n",
    "for key in dict1:\n",
    "    if key in dict2 and dict1[key]==dict2[key]:\n",
    "        print(f\"{key}:{dict1[key]} is present in both x and y\")\n",
    "    "
   ]
  },
  {
   "cell_type": "code",
   "execution_count": 71,
   "id": "42be03d8-f9ef-481c-8ffc-70826dfd3a54",
   "metadata": {},
   "outputs": [
    {
     "name": "stdout",
     "output_type": "stream",
     "text": [
      "{'Math': 81, 'Physics': 90, 'Chemestry': 85}\n"
     ]
    }
   ],
   "source": [
    "#WAP to drop empty items from given dictionaries\n",
    "\n",
    "dict1={'Math':81,'Physics':90,'Chemestry':85,'English':None}\n",
    "#o/p new dict: sample={'Math':81,'Physics':90,'Chemestry':85}\n",
    "\n",
    "#dict1={'key1':1,'key2':2,'key3':3,'key4':None}\n",
    "\n",
    "for x in list(dict1.keys()):\n",
    "    if dict1[x] is None:\n",
    "        del dict1[x]\n",
    "\n",
    "print(dict1)"
   ]
  }
 ],
 "metadata": {
  "kernelspec": {
   "display_name": "Python 3 (ipykernel)",
   "language": "python",
   "name": "python3"
  },
  "language_info": {
   "codemirror_mode": {
    "name": "ipython",
    "version": 3
   },
   "file_extension": ".py",
   "mimetype": "text/x-python",
   "name": "python",
   "nbconvert_exporter": "python",
   "pygments_lexer": "ipython3",
   "version": "3.12.7"
  }
 },
 "nbformat": 4,
 "nbformat_minor": 5
}
