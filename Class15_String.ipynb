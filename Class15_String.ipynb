{
 "cells": [
  {
   "cell_type": "markdown",
   "id": "bc1240c5-1677-449b-8043-40ebd8ada3fb",
   "metadata": {},
   "source": [
    "1. String Method\n",
    "2. Set Data Structure"
   ]
  },
  {
   "cell_type": "code",
   "execution_count": 8,
   "id": "5b9163a2-5a50-48db-be6a-efe2479da0cf",
   "metadata": {},
   "outputs": [],
   "source": [
    "name='Vinay'"
   ]
  },
  {
   "cell_type": "code",
   "execution_count": 12,
   "id": "d2625254-b2df-4707-bc35-253e52ce6514",
   "metadata": {},
   "outputs": [
    {
     "name": "stdout",
     "output_type": "stream",
     "text": [
      "V\n",
      "i\n",
      "y\n"
     ]
    }
   ],
   "source": [
    "print(name[0])\n",
    "print(name[1])\n",
    "print(name[-1])"
   ]
  },
  {
   "cell_type": "code",
   "execution_count": 16,
   "id": "29cc8373-1705-48ca-90b9-674db46126d8",
   "metadata": {},
   "outputs": [
    {
     "data": {
      "text/plain": [
       "'VINAY'"
      ]
     },
     "execution_count": 16,
     "metadata": {},
     "output_type": "execute_result"
    }
   ],
   "source": [
    "name.upper()"
   ]
  },
  {
   "cell_type": "code",
   "execution_count": 22,
   "id": "d545f331-bfbc-427f-9dfb-7b62ec3dafb0",
   "metadata": {},
   "outputs": [
    {
     "data": {
      "text/plain": [
       "'vinay'"
      ]
     },
     "execution_count": 22,
     "metadata": {},
     "output_type": "execute_result"
    }
   ],
   "source": [
    "name.lower()"
   ]
  },
  {
   "cell_type": "code",
   "execution_count": 26,
   "id": "3e2b98a2-e282-4f9c-b880-19634950f536",
   "metadata": {},
   "outputs": [
    {
     "name": "stdout",
     "output_type": "stream",
     "text": [
      "My name is Dhairya       \n",
      "My name is Dhairya\n"
     ]
    }
   ],
   "source": [
    "name='My name is Dhairya       '\n",
    "print(name)\n",
    "name1=name.strip()\n",
    "print(name1)"
   ]
  },
  {
   "cell_type": "code",
   "execution_count": 30,
   "id": "12cfedbc-a0c4-4416-9add-bbf2ff7ac775",
   "metadata": {},
   "outputs": [
    {
     "name": "stdout",
     "output_type": "stream",
     "text": [
      "My name is Dhairya !!!!!!!!\n",
      "My name is Dhairya \n"
     ]
    }
   ],
   "source": [
    "name='My name is Dhairya !!!!!!!!'\n",
    "print(name)\n",
    "name1=name.rstrip('!')\n",
    "print(name1)"
   ]
  },
  {
   "cell_type": "code",
   "execution_count": 34,
   "id": "cd3c0c3a-9423-4c03-8671-55fb8856d7de",
   "metadata": {},
   "outputs": [
    {
     "name": "stdout",
     "output_type": "stream",
     "text": [
      "My name is Dhairya1111111\n",
      "My name is Dhairya\n"
     ]
    }
   ],
   "source": [
    "name='My name is Dhairya1111111'\n",
    "print(name)\n",
    "name1=name.rstrip('1')\n",
    "print(name1)"
   ]
  },
  {
   "cell_type": "code",
   "execution_count": 38,
   "id": "5adef929-29c5-4b8c-bb32-63a6010002f5",
   "metadata": {},
   "outputs": [
    {
     "name": "stdout",
     "output_type": "stream",
     "text": [
      "!!!!!!!My name is Dhairya !!!!!!!!\n",
      "!!!!!!!My name is Dhairya \n"
     ]
    }
   ],
   "source": [
    "name='!!!!!!!My name is Dhairya !!!!!!!!'\n",
    "print(name)\n",
    "name1=name.rstrip('!')\n",
    "print(name1)"
   ]
  },
  {
   "cell_type": "markdown",
   "id": "ea33dd6f-fa3e-4f13-a799-571f74521732",
   "metadata": {},
   "source": [
    "***replace()***"
   ]
  },
  {
   "cell_type": "code",
   "execution_count": 43,
   "id": "7417f9e7-227e-4c63-ae3c-5ac3b7653ac3",
   "metadata": {},
   "outputs": [
    {
     "name": "stdout",
     "output_type": "stream",
     "text": [
      "!!!!!!!!!My name is Dhairya !!!!!!!!\n",
      "My name is Dhairya \n"
     ]
    }
   ],
   "source": [
    "name='!!!!!!!!!My name is Dhairya !!!!!!!!'\n",
    "print(name)\n",
    "name1=name.replace('!','')\n",
    "print(name1)"
   ]
  },
  {
   "cell_type": "code",
   "execution_count": 53,
   "id": "e603957b-5ba4-4cd8-bbb7-7bdb38afacc1",
   "metadata": {},
   "outputs": [
    {
     "name": "stdout",
     "output_type": "stream",
     "text": [
      "@@@@@My name is Dhairya !!!!!!!!\n",
      "My name is Dhairya \n",
      "My name is Dhairya\n"
     ]
    }
   ],
   "source": [
    "name='@@@@@My name is Dhairya !!!!!!!!'\n",
    "print(name)\n",
    "name1=name.replace('!','')\n",
    "name1=name1.replace('@','')\n",
    "print(name1)\n",
    "\n",
    "name2=name.replace('!','').replace('@','').strip()\n",
    "print(name2)"
   ]
  },
  {
   "cell_type": "markdown",
   "id": "a11d7564-9986-4524-8ddf-e7d842e9da61",
   "metadata": {},
   "source": [
    "***Split()***"
   ]
  },
  {
   "cell_type": "code",
   "execution_count": 59,
   "id": "5fa1a5a6-e0be-42a7-8056-933bdb16f650",
   "metadata": {},
   "outputs": [
    {
     "name": "stdout",
     "output_type": "stream",
     "text": [
      "['My', 'name', 'is', 'Dhairya']\n"
     ]
    }
   ],
   "source": [
    "name='My name is Dhairya'\n",
    "name1=name.split()\n",
    "print(name1)"
   ]
  },
  {
   "cell_type": "code",
   "execution_count": 75,
   "id": "fc8cc008-8e6b-49fe-8fb0-0e0fa245e6bf",
   "metadata": {},
   "outputs": [
    {
     "name": "stdout",
     "output_type": "stream",
     "text": [
      "['My', 'name', 'is', 'Dhairya']\n"
     ]
    }
   ],
   "source": [
    "name='My @name @is@ Dhairya'\n",
    "name1=name.split('@')\n",
    "name1=[x.strip() for x in name1]\n",
    "print(name1)"
   ]
  },
  {
   "cell_type": "markdown",
   "id": "6ff49bac-d645-4783-8659-2cf874203606",
   "metadata": {},
   "source": [
    "***Capitalize()***"
   ]
  },
  {
   "cell_type": "code",
   "execution_count": 82,
   "id": "adfb4eab-0c5f-41b9-89f3-460cc1a51982",
   "metadata": {},
   "outputs": [
    {
     "name": "stdout",
     "output_type": "stream",
     "text": [
      "My name is dhairya\n"
     ]
    }
   ],
   "source": [
    "name='My name is Dhairya'\n",
    "print(name.capitalize())"
   ]
  },
  {
   "cell_type": "markdown",
   "id": "148b5cce-1e45-4e69-860e-9a263da3c14f",
   "metadata": {},
   "source": [
    "***centre()***"
   ]
  },
  {
   "cell_type": "code",
   "execution_count": 96,
   "id": "7437eebc-ba57-4f24-a15b-ae8b122832a2",
   "metadata": {},
   "outputs": [
    {
     "name": "stdout",
     "output_type": "stream",
     "text": [
      "                My name is Dhairya                \n",
      "-----------------------------------------My name is Dhairya-----------------------------------------\n"
     ]
    }
   ],
   "source": [
    "name='My name is Dhairya'\n",
    "print(name.center(50))  \n",
    "print(name.center(100,\"-\"))   #50 or 100 is the length of the string now"
   ]
  },
  {
   "cell_type": "markdown",
   "id": "346f7a90-7b1c-431a-bcea-e744c7c61aa6",
   "metadata": {},
   "source": [
    "***count()***"
   ]
  },
  {
   "cell_type": "code",
   "execution_count": 103,
   "id": "832883c0-347a-4a36-871c-44ba32a9792a",
   "metadata": {},
   "outputs": [
    {
     "data": {
      "text/plain": [
       "2"
      ]
     },
     "execution_count": 103,
     "metadata": {},
     "output_type": "execute_result"
    }
   ],
   "source": [
    "name='Rajashree'\n",
    "name.count('a')"
   ]
  },
  {
   "cell_type": "markdown",
   "id": "022b7901-a617-47f7-b351-d7731a76eab0",
   "metadata": {},
   "source": [
    "***find()***"
   ]
  },
  {
   "cell_type": "code",
   "execution_count": 112,
   "id": "d94f638c-8fb9-4090-b355-edb795be7bf6",
   "metadata": {},
   "outputs": [
    {
     "name": "stdout",
     "output_type": "stream",
     "text": [
      "1\n",
      "-1\n"
     ]
    }
   ],
   "source": [
    "name='Rajashree'\n",
    "print(name.find('a'))\n",
    "print(name.find('z'))"
   ]
  },
  {
   "cell_type": "markdown",
   "id": "eca32e32-48b3-4a10-b0e5-f5b12505ab33",
   "metadata": {},
   "source": [
    "***index()***"
   ]
  },
  {
   "cell_type": "code",
   "execution_count": 117,
   "id": "ee787e6e-1b29-467f-bba8-f4112b90250b",
   "metadata": {},
   "outputs": [
    {
     "data": {
      "text/plain": [
       "4"
      ]
     },
     "execution_count": 117,
     "metadata": {},
     "output_type": "execute_result"
    }
   ],
   "source": [
    "name.index('s')"
   ]
  },
  {
   "cell_type": "code",
   "execution_count": 127,
   "id": "0c9060d0-7e0a-405b-b148-7e35372b3998",
   "metadata": {},
   "outputs": [
    {
     "name": "stdout",
     "output_type": "stream",
     "text": [
      "False\n",
      "True\n"
     ]
    }
   ],
   "source": [
    "#islower() and isupper()\n",
    "name='Rajashree'\n",
    "name1='rajashree'\n",
    "print(name.islower())\n",
    "print(name1.islower())"
   ]
  },
  {
   "cell_type": "code",
   "execution_count": 131,
   "id": "88d24d09-e97a-42a3-86bb-c75cf2ebbce7",
   "metadata": {},
   "outputs": [
    {
     "name": "stdout",
     "output_type": "stream",
     "text": [
      "True\n",
      "False\n"
     ]
    }
   ],
   "source": [
    "name='RAJASHREE'\n",
    "name1='rajashree'\n",
    "print(name.isupper())\n",
    "print(name1.isupper())"
   ]
  },
  {
   "cell_type": "code",
   "execution_count": 141,
   "id": "e87cebea-bb84-4acf-9425-eba19db4df09",
   "metadata": {},
   "outputs": [
    {
     "name": "stdout",
     "output_type": "stream",
     "text": [
      "True\n"
     ]
    }
   ],
   "source": [
    "#startswith()\n",
    "\n",
    "str1='My name is Dhairya'\n",
    "print(str1.startswith('My'))\n"
   ]
  },
  {
   "cell_type": "markdown",
   "id": "638313fc-a941-4b40-bbe3-c4713d48e6f1",
   "metadata": {},
   "source": [
    "***Sets***"
   ]
  },
  {
   "cell_type": "code",
   "execution_count": 152,
   "id": "b40ba214-1efc-4a1e-9b11-968666fd314d",
   "metadata": {},
   "outputs": [
    {
     "name": "stdout",
     "output_type": "stream",
     "text": [
      "{'Dhairya', 'Vinay', 'Raji'}\n",
      "Dhairya\n",
      "Vinay\n",
      "Raji\n"
     ]
    }
   ],
   "source": [
    "name={'Raji','Dhairya','Vinay','Raji','Raji'}\n",
    "print(name)\n",
    "\n",
    "for x in name:\n",
    "    print(x)"
   ]
  },
  {
   "cell_type": "code",
   "execution_count": 164,
   "id": "d5a5e0b1-b7c2-496a-b626-6658e7de57e5",
   "metadata": {},
   "outputs": [
    {
     "name": "stdout",
     "output_type": "stream",
     "text": [
      "{'Dhairya', 'Vinay', 'Raji'}\n",
      "['Dhairya', 'Vinay', 'Raji', 'Chikku']\n"
     ]
    }
   ],
   "source": [
    "name={'Raji','Dhairya','Vinay','Raji','Raji'}\n",
    "print(name)\n",
    "\n",
    "name1=list(name)\n",
    "name1.append('Chikku')\n",
    "print(name1)\n"
   ]
  },
  {
   "cell_type": "markdown",
   "id": "54ff02e8-08b6-4e9b-a768-3811d22fff9f",
   "metadata": {},
   "source": [
    "### Union & update"
   ]
  },
  {
   "cell_type": "code",
   "execution_count": 184,
   "id": "51108abd-7deb-434d-b315-16636d146e34",
   "metadata": {},
   "outputs": [
    {
     "name": "stdout",
     "output_type": "stream",
     "text": [
      "{'Delhi', 'MP', 'Pune', 'UP', 'Goa', 'Bangalore'}\n"
     ]
    }
   ],
   "source": [
    "city={'Delhi','Pune','Goa'}\n",
    "city2={'Bangalore','UP','MP','Goa'}\n",
    "\n",
    "city3=city.union(city2)\n",
    "print(city3)"
   ]
  },
  {
   "cell_type": "markdown",
   "id": "5ce43d11-10d2-4e68-897f-e064e51c273e",
   "metadata": {},
   "source": [
    "### intersection & intersection_update"
   ]
  },
  {
   "cell_type": "code",
   "execution_count": 191,
   "id": "cc2cc576-160c-4035-8f0e-035214a7403b",
   "metadata": {},
   "outputs": [
    {
     "data": {
      "text/plain": [
       "{'Goa'}"
      ]
     },
     "execution_count": 191,
     "metadata": {},
     "output_type": "execute_result"
    }
   ],
   "source": [
    "city={'Delhi','Pune','Goa'}\n",
    "city2={'Bangalore','UP','MP','Goa'}\n",
    "\n",
    "city3=city.intersection(city2)\n",
    "city3"
   ]
  },
  {
   "cell_type": "markdown",
   "id": "0cfab78b-dc4b-42f4-bf05-8b7a799b0f0c",
   "metadata": {
    "jp-MarkdownHeadingCollapsed": true
   },
   "source": [
    "### symmetric_difference()"
   ]
  },
  {
   "cell_type": "code",
   "execution_count": 195,
   "id": "34c513df-5ae5-47cb-82c5-03bf811b54d7",
   "metadata": {},
   "outputs": [
    {
     "data": {
      "text/plain": [
       "{'Bangalore', 'Delhi', 'MP', 'Pune', 'UP'}"
      ]
     },
     "execution_count": 195,
     "metadata": {},
     "output_type": "execute_result"
    }
   ],
   "source": [
    "city={'Delhi','Pune','Goa'}\n",
    "city2={'Bangalore','UP','MP','Goa'}\n",
    "\n",
    "city3=city.symmetric_difference(city2)\n",
    "city3"
   ]
  },
  {
   "cell_type": "markdown",
   "id": "0ed68538-045d-42da-a90c-50ee72b31f91",
   "metadata": {
    "jp-MarkdownHeadingCollapsed": true
   },
   "source": [
    "### Set methods"
   ]
  },
  {
   "cell_type": "code",
   "execution_count": 198,
   "id": "d824ded5-1eb3-45b7-a969-9774e00e069f",
   "metadata": {},
   "outputs": [],
   "source": [
    "# isdisjoint()\n",
    "\n",
    "#this checks if items of given set are present on another set. Returns False if items are present else True"
   ]
  },
  {
   "cell_type": "code",
   "execution_count": 200,
   "id": "62dde674-0f0e-4cf4-a4ec-d0d4ead52a78",
   "metadata": {},
   "outputs": [
    {
     "data": {
      "text/plain": [
       "False"
      ]
     },
     "execution_count": 200,
     "metadata": {},
     "output_type": "execute_result"
    }
   ],
   "source": [
    "city={'Delhi','Pune','Goa'}\n",
    "city2={'Bangalore','UP','MP','Goa'}\n",
    "\n",
    "city.isdisjoint(city2)"
   ]
  },
  {
   "cell_type": "markdown",
   "id": "3b18f29b-1ea8-4975-8006-a822ba8a8a9a",
   "metadata": {
    "jp-MarkdownHeadingCollapsed": true
   },
   "source": [
    "### Enumerate"
   ]
  },
  {
   "cell_type": "code",
   "execution_count": 3,
   "id": "ef215276-6e83-427f-94e0-adf17208ffed",
   "metadata": {},
   "outputs": [
    {
     "name": "stdout",
     "output_type": "stream",
     "text": [
      "0 Delhi\n",
      "1 Pune\n",
      "2 Goa\n"
     ]
    }
   ],
   "source": [
    "city=['Delhi','Pune','Goa']\n",
    "\n",
    "for i in range(len(city)):\n",
    "    print(i,city[i])\n",
    "    \n"
   ]
  },
  {
   "cell_type": "code",
   "execution_count": 5,
   "id": "86d0c562-6c88-468d-a0f9-9bbbe5aa0aff",
   "metadata": {},
   "outputs": [
    {
     "name": "stdout",
     "output_type": "stream",
     "text": [
      "(0, 'Delhi')\n",
      "(1, 'Pune')\n",
      "(2, 'Goa')\n"
     ]
    }
   ],
   "source": [
    "for i in enumerate(city):\n",
    "    print(i)"
   ]
  },
  {
   "cell_type": "code",
   "execution_count": 7,
   "id": "3920fa24-ff0f-4968-a5c2-e270392a9f3c",
   "metadata": {},
   "outputs": [
    {
     "name": "stdout",
     "output_type": "stream",
     "text": [
      "0 Delhi\n",
      "1 Pune\n",
      "2 Goa\n"
     ]
    }
   ],
   "source": [
    "#to unpack the items\n",
    "\n",
    "for i,j in enumerate(city):\n",
    "    print(i,j)"
   ]
  },
  {
   "cell_type": "code",
   "execution_count": 20,
   "id": "17a87c5a-bb2a-4bf1-8896-b6d3ef579a36",
   "metadata": {},
   "outputs": [
    {
     "name": "stdout",
     "output_type": "stream",
     "text": [
      "Delhi\n",
      "Pune\n",
      "Goa\n"
     ]
    }
   ],
   "source": [
    "city=['Delhi','Pune','Goa']\n",
    "\n",
    "for i,j in enumerate(city):\n",
    "    print(j)"
   ]
  },
  {
   "cell_type": "code",
   "execution_count": 34,
   "id": "a14a25c8-49d7-44cd-b80a-78750a83fffc",
   "metadata": {},
   "outputs": [
    {
     "data": {
      "text/plain": [
       "[(0, 'Delhi'), (1, 'Goa'), (2, 'Pune')]"
      ]
     },
     "execution_count": 34,
     "metadata": {},
     "output_type": "execute_result"
    }
   ],
   "source": [
    "city={'Delhi','Pune','Goa'}\n",
    "#city1=list(enumerate(city))\n",
    "\n",
    "city1=enumerate(city)\n",
    "list(city1)\n",
    "#city2=enumerate(city1,2)\n"
   ]
  },
  {
   "cell_type": "markdown",
   "id": "aeae7488-dd04-4245-937e-3dc88f305108",
   "metadata": {},
   "source": [
    "### Working with Files"
   ]
  },
  {
   "cell_type": "code",
   "execution_count": 51,
   "id": "d23f277e-952a-41e6-bb6d-f1f08a359266",
   "metadata": {},
   "outputs": [
    {
     "name": "stdout",
     "output_type": "stream",
     "text": [
      "Hello, this is test file.\n",
      "Working fine.\n",
      "\n"
     ]
    }
   ],
   "source": [
    "f=open(\"File_Handle_test.txt\",\"r\")\n",
    "print(f.read())"
   ]
  },
  {
   "cell_type": "code",
   "execution_count": 105,
   "id": "43c2635d-96ca-4ea6-bd24-bb8c51dd7165",
   "metadata": {},
   "outputs": [
    {
     "name": "stdout",
     "output_type": "stream",
     "text": [
      "Hello, this is test file.\n",
      "\n"
     ]
    }
   ],
   "source": [
    "f=open(\"File_Handle_test.txt\",\"r\")\n",
    "print(f.readline())"
   ]
  },
  {
   "cell_type": "code",
   "execution_count": 107,
   "id": "4168e16d-1e26-4c31-b948-edf74a3b38cf",
   "metadata": {},
   "outputs": [
    {
     "name": "stdout",
     "output_type": "stream",
     "text": [
      "['Hello, this is test file.\\n', 'Working fine.\\n']\n"
     ]
    }
   ],
   "source": [
    "f=open(\"File_Handle_test.txt\",\"r\")\n",
    "print(f.readlines())"
   ]
  },
  {
   "cell_type": "code",
   "execution_count": 73,
   "id": "788b1e0d-a5bd-4e0b-911b-c192dacc1164",
   "metadata": {},
   "outputs": [
    {
     "name": "stdout",
     "output_type": "stream",
     "text": [
      "Hello, this is test file.\n",
      "Working fine.\n",
      "\n"
     ]
    }
   ],
   "source": [
    "f=open(\"File_Handle_test.txt\",\"r\")\n",
    "print(f.read())\n",
    "f.close()"
   ]
  },
  {
   "cell_type": "code",
   "execution_count": 77,
   "id": "d6b12955-c16c-41b2-81da-2e13f93d96e0",
   "metadata": {},
   "outputs": [
    {
     "name": "stdout",
     "output_type": "stream",
     "text": [
      "Hello, this is test file.\n",
      "\n",
      "Working fine.\n",
      "\n"
     ]
    }
   ],
   "source": [
    "f=open(\"File_Handle_test.txt\",\"r\")\n",
    "for i in f:             #possible to print specific line using for loop\n",
    "    print(i)"
   ]
  },
  {
   "cell_type": "code",
   "execution_count": 121,
   "id": "7b428963-1ea6-4190-86a6-540bac66a7ae",
   "metadata": {},
   "outputs": [
    {
     "name": "stdout",
     "output_type": "stream",
     "text": [
      "Working fine.\n",
      "\n"
     ]
    }
   ],
   "source": [
    "f=open(\"File_Handle_test.txt\",\"r\")\n",
    "#f=f.readlines()\n",
    "\n",
    "for i,j in enumerate(f):         #possible to print specific line using for loop\n",
    "    if i==1:\n",
    "        print(j)\n",
    "    else:\n",
    "        None\n",
    "\n",
    "#print(a)"
   ]
  },
  {
   "cell_type": "code",
   "execution_count": 127,
   "id": "6c915996-f3d9-427b-b63b-fb8435288e92",
   "metadata": {},
   "outputs": [
    {
     "name": "stdout",
     "output_type": "stream",
     "text": [
      "Hello, this is test file.\n",
      "\n",
      "Working fine.\n",
      "\n"
     ]
    }
   ],
   "source": [
    "f=open(\"File_Handle_test.txt\",\"r\")\n",
    "f=f.readlines()\n",
    "\n",
    "print(f[0])\n",
    "print(f[1])"
   ]
  },
  {
   "cell_type": "code",
   "execution_count": 129,
   "id": "68d078bf-0339-43c2-b164-f6d73b516d62",
   "metadata": {},
   "outputs": [
    {
     "name": "stdout",
     "output_type": "stream",
     "text": [
      "Hello, this is test file.\n",
      "Working fine.\n",
      "\n"
     ]
    }
   ],
   "source": [
    "f=open(\"File_Handle_test.txt\",\"r\")\n",
    "print(f.read())\n",
    "f.close()"
   ]
  },
  {
   "cell_type": "code",
   "execution_count": 133,
   "id": "bd09a3c3-2489-401f-acdd-254c03ef43d9",
   "metadata": {},
   "outputs": [
    {
     "name": "stdout",
     "output_type": "stream",
     "text": [
      "Hello, this is test file.\n",
      "Working fine.\n",
      "\n"
     ]
    }
   ],
   "source": [
    "#Another way to open file\n",
    "#Here it will get close automatically without defining close()\n",
    "\n",
    "with open(\"File_Handle_test.txt\",\"r\") as f:\n",
    "    print(f.read())\n"
   ]
  },
  {
   "cell_type": "code",
   "execution_count": 186,
   "id": "6dbdd5fc-a4ba-43eb-9484-ae4e6c9e6598",
   "metadata": {},
   "outputs": [],
   "source": [
    "f=open(\"File_Handle_test.txt\",\"a\")\n",
    "f.write(\"\\nThis is second line.\")\n",
    "f.close()"
   ]
  },
  {
   "cell_type": "code",
   "execution_count": 188,
   "id": "5cbca503-b293-4954-a005-a3d364a9bf3b",
   "metadata": {},
   "outputs": [],
   "source": [
    "f=open(\"File_Handle_test.txt\",\"w\")\n",
    "f.write(\"Using write w mode\")\n",
    "f.close()"
   ]
  },
  {
   "cell_type": "code",
   "execution_count": 227,
   "id": "52ffb944-2774-41c6-b302-baad523eb1a7",
   "metadata": {},
   "outputs": [],
   "source": [
    "f=open(\"Createfile_mode.txt\",\"a\")\n",
    "f.write(\"delete file\")\n",
    "f.close()"
   ]
  },
  {
   "cell_type": "code",
   "execution_count": 223,
   "id": "2b25f8ed-b672-4704-991a-57c669a72c57",
   "metadata": {},
   "outputs": [],
   "source": [
    "with open(\"test.txt\",\"r\") as f:\n",
    "    pass\n",
    "\n",
    "f.close()"
   ]
  },
  {
   "cell_type": "code",
   "execution_count": 2,
   "id": "ade55376-e021-476d-918f-cfca2304f752",
   "metadata": {},
   "outputs": [],
   "source": [
    "import os"
   ]
  },
  {
   "cell_type": "code",
   "execution_count": 3,
   "id": "33b2f603-ef15-47b9-a045-a9da8e5d50d2",
   "metadata": {},
   "outputs": [],
   "source": [
    "os.remove(\"Createfile_mode.txt\")"
   ]
  },
  {
   "cell_type": "code",
   "execution_count": null,
   "id": "737e23a6-ae64-43af-93b2-d137ec4af39f",
   "metadata": {},
   "outputs": [],
   "source": []
  }
 ],
 "metadata": {
  "kernelspec": {
   "display_name": "Python 3 (ipykernel)",
   "language": "python",
   "name": "python3"
  },
  "language_info": {
   "codemirror_mode": {
    "name": "ipython",
    "version": 3
   },
   "file_extension": ".py",
   "mimetype": "text/x-python",
   "name": "python",
   "nbconvert_exporter": "python",
   "pygments_lexer": "ipython3",
   "version": "3.12.7"
  }
 },
 "nbformat": 4,
 "nbformat_minor": 5
}
